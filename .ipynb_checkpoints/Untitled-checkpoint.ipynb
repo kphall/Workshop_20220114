{
 "cells": [
  {
   "cell_type": "code",
   "execution_count": 1,
   "id": "6af3e803",
   "metadata": {},
   "outputs": [],
   "source": [
    "import numpy as np\n",
    "import astropy.io.fits as fits\n",
    "'''\n",
    "Comments are entered here\n",
    "This is a mock jupyter notebook file for github testing purposes\n",
    "Best way is to save in github desktop directory and just commit and push\n",
    "'''\n"
   ]
  },
  {
   "cell_type": "code",
   "execution_count": null,
   "id": "367a3f80",
   "metadata": {},
   "outputs": [],
   "source": []
  }
 ],
 "metadata": {
  "kernelspec": {
   "display_name": "Python 3",
   "language": "python",
   "name": "python3"
  },
  "language_info": {
   "codemirror_mode": {
    "name": "ipython",
    "version": 3
   },
   "file_extension": ".py",
   "mimetype": "text/x-python",
   "name": "python",
   "nbconvert_exporter": "python",
   "pygments_lexer": "ipython3",
   "version": "3.8.8"
  }
 },
 "nbformat": 4,
 "nbformat_minor": 5
}
